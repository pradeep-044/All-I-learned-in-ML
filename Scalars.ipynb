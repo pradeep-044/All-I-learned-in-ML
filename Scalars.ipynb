{
 "cells": [
  {
   "cell_type": "markdown",
   "id": "1c7651b2",
   "metadata": {},
   "source": [
    "## Create scalar using numpy  "
   ]
  },
  {
   "cell_type": "code",
   "execution_count": 3,
   "id": "056e2405",
   "metadata": {},
   "outputs": [],
   "source": [
    "import numpy as np"
   ]
  },
  {
   "cell_type": "code",
   "execution_count": 4,
   "id": "0a2e4706",
   "metadata": {},
   "outputs": [],
   "source": [
    "scalar = np.array(5)"
   ]
  },
  {
   "cell_type": "code",
   "execution_count": 5,
   "id": "c56729e6",
   "metadata": {},
   "outputs": [
    {
     "data": {
      "text/plain": [
       "array(5)"
      ]
     },
     "execution_count": 5,
     "metadata": {},
     "output_type": "execute_result"
    }
   ],
   "source": [
    "scalar"
   ]
  },
  {
   "cell_type": "code",
   "execution_count": 6,
   "id": "f69f5c9f",
   "metadata": {},
   "outputs": [
    {
     "data": {
      "text/plain": [
       "numpy.ndarray"
      ]
     },
     "execution_count": 6,
     "metadata": {},
     "output_type": "execute_result"
    }
   ],
   "source": [
    "type(scalar)"
   ]
  },
  {
   "cell_type": "code",
   "execution_count": 10,
   "id": "0bf1805e",
   "metadata": {},
   "outputs": [
    {
     "data": {
      "text/plain": [
       "0"
      ]
     },
     "execution_count": 10,
     "metadata": {},
     "output_type": "execute_result"
    }
   ],
   "source": [
    "# Scalar has no dimentions it is zero\n",
    "scalar.ndim"
   ]
  },
  {
   "cell_type": "code",
   "execution_count": 12,
   "id": "8ed2a1ff",
   "metadata": {},
   "outputs": [
    {
     "data": {
      "text/plain": [
       "()"
      ]
     },
     "execution_count": 12,
     "metadata": {},
     "output_type": "execute_result"
    }
   ],
   "source": [
    "# scalar has no shape\n",
    "scalar.shape"
   ]
  },
  {
   "cell_type": "code",
   "execution_count": 15,
   "id": "e7e044e2",
   "metadata": {},
   "outputs": [],
   "source": [
    "scalar2 = np.array(25.5)"
   ]
  },
  {
   "cell_type": "code",
   "execution_count": 16,
   "id": "9cc0d28e",
   "metadata": {},
   "outputs": [
    {
     "data": {
      "text/plain": [
       "array(25.5)"
      ]
     },
     "execution_count": 16,
     "metadata": {},
     "output_type": "execute_result"
    }
   ],
   "source": [
    "scalar2"
   ]
  },
  {
   "cell_type": "code",
   "execution_count": 17,
   "id": "c32c7279",
   "metadata": {},
   "outputs": [
    {
     "data": {
      "text/plain": [
       "()"
      ]
     },
     "execution_count": 17,
     "metadata": {},
     "output_type": "execute_result"
    }
   ],
   "source": [
    "scalar2.shape"
   ]
  },
  {
   "cell_type": "code",
   "execution_count": 18,
   "id": "7e2b50c2",
   "metadata": {},
   "outputs": [
    {
     "data": {
      "text/plain": [
       "numpy.ndarray"
      ]
     },
     "execution_count": 18,
     "metadata": {},
     "output_type": "execute_result"
    }
   ],
   "source": [
    "type(scalar2)"
   ]
  }
 ],
 "metadata": {
  "kernelspec": {
   "display_name": "Python 3 (ipykernel)",
   "language": "python",
   "name": "python3"
  },
  "language_info": {
   "codemirror_mode": {
    "name": "ipython",
    "version": 3
   },
   "file_extension": ".py",
   "mimetype": "text/x-python",
   "name": "python",
   "nbconvert_exporter": "python",
   "pygments_lexer": "ipython3",
   "version": "3.9.12"
  }
 },
 "nbformat": 4,
 "nbformat_minor": 5
}
