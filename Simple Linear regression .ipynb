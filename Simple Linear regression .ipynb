{
 "cells": [
  {
   "cell_type": "markdown",
   "id": "c0ce7fbd",
   "metadata": {},
   "source": [
    "# Simple Linear regression\n"
   ]
  },
  {
   "cell_type": "markdown",
   "id": "5fa5877b",
   "metadata": {},
   "source": [
    "## Import packages and classes "
   ]
  },
  {
   "cell_type": "code",
   "execution_count": 1,
   "id": "9452e0c6",
   "metadata": {},
   "outputs": [],
   "source": [
    "import numpy as np\n",
    "from sklearn.linear_model import LinearRegression"
   ]
  },
  {
   "cell_type": "markdown",
   "id": "89a4680a",
   "metadata": {},
   "source": [
    "Variables \n",
    "\n",
    "1) Independent\n",
    "2) Dependent"
   ]
  },
  {
   "cell_type": "code",
   "execution_count": 9,
   "id": "13c98a30",
   "metadata": {},
   "outputs": [],
   "source": [
    "x = np.array([25,35,45,55,65,75])\n",
    "y = np.array([5,20,14,35,22,38])"
   ]
  },
  {
   "cell_type": "code",
   "execution_count": 17,
   "id": "12592805",
   "metadata": {},
   "outputs": [],
   "source": [
    "x = x.reshape((-1,1))\n",
    "#y = y.reshape((-1,1))"
   ]
  },
  {
   "cell_type": "markdown",
   "id": "798c8a5b",
   "metadata": {},
   "source": [
    "## Create a model and fit it "
   ]
  },
  {
   "cell_type": "code",
   "execution_count": 19,
   "id": "7f64d779",
   "metadata": {},
   "outputs": [],
   "source": [
    "model = LinearRegression()"
   ]
  },
  {
   "cell_type": "code",
   "execution_count": 20,
   "id": "01db6bd0",
   "metadata": {},
   "outputs": [
    {
     "data": {
      "text/plain": [
       "LinearRegression()"
      ]
     },
     "execution_count": 20,
     "metadata": {},
     "output_type": "execute_result"
    }
   ],
   "source": [
    "model.fit(x,y)"
   ]
  },
  {
   "cell_type": "markdown",
   "id": "b12a83be",
   "metadata": {},
   "source": [
    "## Once you have your model fitted you can geth the results to check the whether the model works or not"
   ]
  },
  {
   "cell_type": "code",
   "execution_count": 22,
   "id": "862bd677",
   "metadata": {},
   "outputs": [
    {
     "name": "stdout",
     "output_type": "stream",
     "text": [
      "coefficient of determination: 0.6740126767430521\n"
     ]
    }
   ],
   "source": [
    "r_sq_score = model.score(x,y)\n",
    "print(\"coefficient of determination:\", r_sq_score)"
   ]
  },
  {
   "cell_type": "code",
   "execution_count": 24,
   "id": "aeb6d6f4",
   "metadata": {},
   "outputs": [
    {
     "name": "stdout",
     "output_type": "stream",
     "text": [
      "intercept: [-5.0952381]\n"
     ]
    }
   ],
   "source": [
    "print(\"intercept:\",model.intercept_)"
   ]
  },
  {
   "cell_type": "code",
   "execution_count": 25,
   "id": "3abb6e65",
   "metadata": {},
   "outputs": [
    {
     "name": "stdout",
     "output_type": "stream",
     "text": [
      "scope: [[0.54857143]]\n"
     ]
    }
   ],
   "source": [
    "print(\"scope:\",model.coef_)"
   ]
  },
  {
   "cell_type": "code",
   "execution_count": 27,
   "id": "ec05851f",
   "metadata": {},
   "outputs": [],
   "source": [
    "y_pred = model.predict(x)"
   ]
  },
  {
   "cell_type": "code",
   "execution_count": 28,
   "id": "6f72f59f",
   "metadata": {},
   "outputs": [
    {
     "name": "stdout",
     "output_type": "stream",
     "text": [
      "predicted response: [[ 8.61904762]\n",
      " [14.1047619 ]\n",
      " [19.59047619]\n",
      " [25.07619048]\n",
      " [30.56190476]\n",
      " [36.04761905]]\n"
     ]
    }
   ],
   "source": [
    "print(\"predicted response:\",y_pred)"
   ]
  },
  {
   "cell_type": "code",
   "execution_count": null,
   "id": "6d7f2c82",
   "metadata": {},
   "outputs": [],
   "source": []
  }
 ],
 "metadata": {
  "kernelspec": {
   "display_name": "Python 3 (ipykernel)",
   "language": "python",
   "name": "python3"
  },
  "language_info": {
   "codemirror_mode": {
    "name": "ipython",
    "version": 3
   },
   "file_extension": ".py",
   "mimetype": "text/x-python",
   "name": "python",
   "nbconvert_exporter": "python",
   "pygments_lexer": "ipython3",
   "version": "3.9.12"
  }
 },
 "nbformat": 4,
 "nbformat_minor": 5
}
