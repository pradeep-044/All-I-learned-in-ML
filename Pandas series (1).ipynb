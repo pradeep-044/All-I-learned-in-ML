{
 "cells": [
  {
   "cell_type": "markdown",
   "id": "72e4e010",
   "metadata": {},
   "source": [
    "# Pandas series"
   ]
  },
  {
   "cell_type": "markdown",
   "id": "d629aeaf",
   "metadata": {},
   "source": [
    "## Importing pandas "
   ]
  },
  {
   "cell_type": "code",
   "execution_count": 1,
   "id": "ce9a50cb",
   "metadata": {},
   "outputs": [],
   "source": [
    "import pandas as pd"
   ]
  },
  {
   "cell_type": "markdown",
   "id": "e30028fa",
   "metadata": {},
   "source": [
    "## Create a empty series"
   ]
  },
  {
   "cell_type": "code",
   "execution_count": 12,
   "id": "3c0e678f",
   "metadata": {},
   "outputs": [
    {
     "name": "stderr",
     "output_type": "stream",
     "text": [
      "C:\\Users\\User\\AppData\\Local\\Temp\\ipykernel_6520\\573231601.py:1: FutureWarning: The default dtype for empty Series will be 'object' instead of 'float64' in a future version. Specify a dtype explicitly to silence this warning.\n",
      "  S = pd.Series()\n"
     ]
    }
   ],
   "source": [
    "S = pd.Series()"
   ]
  },
  {
   "cell_type": "code",
   "execution_count": 15,
   "id": "bc84e2ae",
   "metadata": {},
   "outputs": [
    {
     "data": {
      "text/plain": [
       "Series([], dtype: float64)"
      ]
     },
     "execution_count": 15,
     "metadata": {},
     "output_type": "execute_result"
    }
   ],
   "source": [
    "S"
   ]
  },
  {
   "cell_type": "code",
   "execution_count": 13,
   "id": "8e58ed79",
   "metadata": {},
   "outputs": [
    {
     "data": {
      "text/plain": [
       "pandas.core.series.Series"
      ]
     },
     "execution_count": 13,
     "metadata": {},
     "output_type": "execute_result"
    }
   ],
   "source": [
    "type(S)"
   ]
  },
  {
   "cell_type": "markdown",
   "id": "c41d9f3e",
   "metadata": {},
   "source": [
    "## Create series using array "
   ]
  },
  {
   "cell_type": "code",
   "execution_count": 34,
   "id": "8a8cd0d8",
   "metadata": {},
   "outputs": [],
   "source": [
    "# For create a array we use numpy library\n",
    "import numpy as np"
   ]
  },
  {
   "cell_type": "code",
   "execution_count": 35,
   "id": "07549322",
   "metadata": {},
   "outputs": [],
   "source": [
    "arr = np.array([1,2,3,4,5])"
   ]
  },
  {
   "cell_type": "code",
   "execution_count": 38,
   "id": "66889025",
   "metadata": {},
   "outputs": [],
   "source": [
    "S1 = pd.Series(arr, index=[\"001\",\"002\",\"003\",\"004\",\"005\"])\n",
    "# index=[\"001\",\"002\",\"003\",\"004\",\"005\"] this code is for create index"
   ]
  },
  {
   "cell_type": "code",
   "execution_count": 39,
   "id": "c6478c3a",
   "metadata": {},
   "outputs": [
    {
     "data": {
      "text/plain": [
       "001    1\n",
       "002    2\n",
       "003    3\n",
       "004    4\n",
       "005    5\n",
       "dtype: int32"
      ]
     },
     "execution_count": 39,
     "metadata": {},
     "output_type": "execute_result"
    }
   ],
   "source": [
    "S1"
   ]
  },
  {
   "cell_type": "code",
   "execution_count": 42,
   "id": "c14ebab0",
   "metadata": {},
   "outputs": [
    {
     "data": {
      "text/plain": [
       "pandas.core.series.Series"
      ]
     },
     "execution_count": 42,
     "metadata": {},
     "output_type": "execute_result"
    }
   ],
   "source": [
    "type(S1)"
   ]
  },
  {
   "cell_type": "markdown",
   "id": "94392699",
   "metadata": {},
   "source": [
    "## Create series using List "
   ]
  },
  {
   "cell_type": "code",
   "execution_count": 47,
   "id": "d27f85ce",
   "metadata": {},
   "outputs": [],
   "source": [
    "# First create a list\n",
    "mylist = [1,2,3,4,5]"
   ]
  },
  {
   "cell_type": "code",
   "execution_count": 48,
   "id": "e0419d01",
   "metadata": {},
   "outputs": [],
   "source": [
    "S2 = pd.Series(mylist)"
   ]
  },
  {
   "cell_type": "code",
   "execution_count": 45,
   "id": "fef38fb0",
   "metadata": {},
   "outputs": [
    {
     "data": {
      "text/plain": [
       "0    1\n",
       "1    2\n",
       "2    3\n",
       "3    4\n",
       "4    5\n",
       "dtype: int64"
      ]
     },
     "execution_count": 45,
     "metadata": {},
     "output_type": "execute_result"
    }
   ],
   "source": [
    "S2"
   ]
  },
  {
   "cell_type": "code",
   "execution_count": 46,
   "id": "b97e4d94",
   "metadata": {},
   "outputs": [
    {
     "data": {
      "text/plain": [
       "pandas.core.series.Series"
      ]
     },
     "execution_count": 46,
     "metadata": {},
     "output_type": "execute_result"
    }
   ],
   "source": [
    "type(S2)"
   ]
  },
  {
   "cell_type": "markdown",
   "id": "155f6371",
   "metadata": {},
   "source": [
    "## Create series using Dictionary"
   ]
  },
  {
   "cell_type": "code",
   "execution_count": 49,
   "id": "65978957",
   "metadata": {},
   "outputs": [],
   "source": [
    "#First create a dictionary\n",
    "mydict = {1:\"one\",2:\"two\",3:\"three\"}"
   ]
  },
  {
   "cell_type": "code",
   "execution_count": 50,
   "id": "137b5bee",
   "metadata": {},
   "outputs": [],
   "source": [
    "S3 = pd.Series(mydict)"
   ]
  },
  {
   "cell_type": "code",
   "execution_count": 52,
   "id": "9c6be3f9",
   "metadata": {},
   "outputs": [
    {
     "data": {
      "text/plain": [
       "1      one\n",
       "2      two\n",
       "3    three\n",
       "dtype: object"
      ]
     },
     "execution_count": 52,
     "metadata": {},
     "output_type": "execute_result"
    }
   ],
   "source": [
    "S3\n",
    "# Dictionary key work as a index "
   ]
  },
  {
   "cell_type": "code",
   "execution_count": 53,
   "id": "2e63ce29",
   "metadata": {},
   "outputs": [
    {
     "data": {
      "text/plain": [
       "pandas.core.series.Series"
      ]
     },
     "execution_count": 53,
     "metadata": {},
     "output_type": "execute_result"
    }
   ],
   "source": [
    "type(S3)"
   ]
  },
  {
   "cell_type": "markdown",
   "id": "bd65053e",
   "metadata": {},
   "source": [
    "## Create series using Dictionary (Not the all keys and values )"
   ]
  },
  {
   "cell_type": "code",
   "execution_count": 59,
   "id": "6f538fd1",
   "metadata": {},
   "outputs": [],
   "source": [
    "# And if we want to convert only few key value pairs \n",
    "# We need to mention those keys in the index part\n",
    "\n",
    "S4 = pd.Series(mydict,index=[1,3])"
   ]
  },
  {
   "cell_type": "code",
   "execution_count": 60,
   "id": "14ae3545",
   "metadata": {},
   "outputs": [
    {
     "data": {
      "text/plain": [
       "1      one\n",
       "3    three\n",
       "dtype: object"
      ]
     },
     "execution_count": 60,
     "metadata": {},
     "output_type": "execute_result"
    }
   ],
   "source": [
    "S4"
   ]
  }
 ],
 "metadata": {
  "kernelspec": {
   "display_name": "Python 3 (ipykernel)",
   "language": "python",
   "name": "python3"
  },
  "language_info": {
   "codemirror_mode": {
    "name": "ipython",
    "version": 3
   },
   "file_extension": ".py",
   "mimetype": "text/x-python",
   "name": "python",
   "nbconvert_exporter": "python",
   "pygments_lexer": "ipython3",
   "version": "3.9.12"
  }
 },
 "nbformat": 4,
 "nbformat_minor": 5
}
